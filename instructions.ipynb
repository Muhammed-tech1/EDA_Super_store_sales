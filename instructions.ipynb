Superstore Data Analysis Project

Superstore Data Analysis project delves into sales patterns, product performance, and customer behavior, providing insights that inform strategic decisions for the continued success and refinement of the Superstore.

Using the attached dataset perform an Exploratory Data Analysis with the following outline:
Table of Contents:

· Introduction
· Project Objectives
· Requirements
· 1. Data Exploration and Cleaning
∘ Data Collection
∘ Data Exploration
∘ Data Cleaning
· 2. Exploratory Data Analysis
∘ a. Count of sub-category
∘ b. Best Performing Category
∘ c. Which customer segment is the most profitable?
∘ d. Which is the preferred Ship Mode?
∘ e. Customer Regional Analysis
· Conclusion
· Summary
· References